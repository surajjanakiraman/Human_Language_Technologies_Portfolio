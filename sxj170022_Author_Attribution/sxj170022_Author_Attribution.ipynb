{
  "nbformat": 4,
  "nbformat_minor": 0,
  "metadata": {
    "colab": {
      "provenance": []
    },
    "kernelspec": {
      "name": "python3",
      "display_name": "Python 3"
    },
    "language_info": {
      "name": "python"
    }
  },
  "cells": [
    {
      "cell_type": "markdown",
      "source": [
        "#### Name: Suraj Janakiraman (sxj170022)\n",
        "#### Due Date: 11-13-22\n",
        "#### Subject: CS 4395.001 Human Language Technologies\n",
        "#### Assignment: Author Attribution"
      ],
      "metadata": {
        "id": "0dBbF2f3nP_X"
      }
    },
    {
      "cell_type": "code",
      "execution_count": null,
      "metadata": {
        "id": "sulP0GqaXFWd"
      },
      "outputs": [],
      "source": [
        "import pandas as pd\n",
        "df=pd.read_csv('federalist.csv')"
      ]
    },
    {
      "cell_type": "code",
      "source": [
        "df['author']=df['author'].astype(\"category\")"
      ],
      "metadata": {
        "id": "TYDGUaIhX055"
      },
      "execution_count": null,
      "outputs": []
    },
    {
      "cell_type": "code",
      "source": [
        "#display the first few rows\n",
        "df.head()"
      ],
      "metadata": {
        "id": "NDzisP1YzIUW",
        "colab": {
          "base_uri": "https://localhost:8080/",
          "height": 206
        },
        "outputId": "7faafc7d-e0b9-42dd-856c-0364c1746ad4"
      },
      "execution_count": null,
      "outputs": [
        {
          "output_type": "execute_result",
          "data": {
            "text/plain": [
              "     author                                               text\n",
              "0  HAMILTON  FEDERALIST. No. 1 General Introduction For the...\n",
              "1       JAY  FEDERALIST No. 2 Concerning Dangers from Forei...\n",
              "2       JAY  FEDERALIST No. 3 The Same Subject Continued (C...\n",
              "3       JAY  FEDERALIST No. 4 The Same Subject Continued (C...\n",
              "4       JAY  FEDERALIST No. 5 The Same Subject Continued (C..."
            ],
            "text/html": [
              "\n",
              "  <div id=\"df-4b39bd0f-925e-4bbe-b5db-f5a33e3a16ae\">\n",
              "    <div class=\"colab-df-container\">\n",
              "      <div>\n",
              "<style scoped>\n",
              "    .dataframe tbody tr th:only-of-type {\n",
              "        vertical-align: middle;\n",
              "    }\n",
              "\n",
              "    .dataframe tbody tr th {\n",
              "        vertical-align: top;\n",
              "    }\n",
              "\n",
              "    .dataframe thead th {\n",
              "        text-align: right;\n",
              "    }\n",
              "</style>\n",
              "<table border=\"1\" class=\"dataframe\">\n",
              "  <thead>\n",
              "    <tr style=\"text-align: right;\">\n",
              "      <th></th>\n",
              "      <th>author</th>\n",
              "      <th>text</th>\n",
              "    </tr>\n",
              "  </thead>\n",
              "  <tbody>\n",
              "    <tr>\n",
              "      <th>0</th>\n",
              "      <td>HAMILTON</td>\n",
              "      <td>FEDERALIST. No. 1 General Introduction For the...</td>\n",
              "    </tr>\n",
              "    <tr>\n",
              "      <th>1</th>\n",
              "      <td>JAY</td>\n",
              "      <td>FEDERALIST No. 2 Concerning Dangers from Forei...</td>\n",
              "    </tr>\n",
              "    <tr>\n",
              "      <th>2</th>\n",
              "      <td>JAY</td>\n",
              "      <td>FEDERALIST No. 3 The Same Subject Continued (C...</td>\n",
              "    </tr>\n",
              "    <tr>\n",
              "      <th>3</th>\n",
              "      <td>JAY</td>\n",
              "      <td>FEDERALIST No. 4 The Same Subject Continued (C...</td>\n",
              "    </tr>\n",
              "    <tr>\n",
              "      <th>4</th>\n",
              "      <td>JAY</td>\n",
              "      <td>FEDERALIST No. 5 The Same Subject Continued (C...</td>\n",
              "    </tr>\n",
              "  </tbody>\n",
              "</table>\n",
              "</div>\n",
              "      <button class=\"colab-df-convert\" onclick=\"convertToInteractive('df-4b39bd0f-925e-4bbe-b5db-f5a33e3a16ae')\"\n",
              "              title=\"Convert this dataframe to an interactive table.\"\n",
              "              style=\"display:none;\">\n",
              "        \n",
              "  <svg xmlns=\"http://www.w3.org/2000/svg\" height=\"24px\"viewBox=\"0 0 24 24\"\n",
              "       width=\"24px\">\n",
              "    <path d=\"M0 0h24v24H0V0z\" fill=\"none\"/>\n",
              "    <path d=\"M18.56 5.44l.94 2.06.94-2.06 2.06-.94-2.06-.94-.94-2.06-.94 2.06-2.06.94zm-11 1L8.5 8.5l.94-2.06 2.06-.94-2.06-.94L8.5 2.5l-.94 2.06-2.06.94zm10 10l.94 2.06.94-2.06 2.06-.94-2.06-.94-.94-2.06-.94 2.06-2.06.94z\"/><path d=\"M17.41 7.96l-1.37-1.37c-.4-.4-.92-.59-1.43-.59-.52 0-1.04.2-1.43.59L10.3 9.45l-7.72 7.72c-.78.78-.78 2.05 0 2.83L4 21.41c.39.39.9.59 1.41.59.51 0 1.02-.2 1.41-.59l7.78-7.78 2.81-2.81c.8-.78.8-2.07 0-2.86zM5.41 20L4 18.59l7.72-7.72 1.47 1.35L5.41 20z\"/>\n",
              "  </svg>\n",
              "      </button>\n",
              "      \n",
              "  <style>\n",
              "    .colab-df-container {\n",
              "      display:flex;\n",
              "      flex-wrap:wrap;\n",
              "      gap: 12px;\n",
              "    }\n",
              "\n",
              "    .colab-df-convert {\n",
              "      background-color: #E8F0FE;\n",
              "      border: none;\n",
              "      border-radius: 50%;\n",
              "      cursor: pointer;\n",
              "      display: none;\n",
              "      fill: #1967D2;\n",
              "      height: 32px;\n",
              "      padding: 0 0 0 0;\n",
              "      width: 32px;\n",
              "    }\n",
              "\n",
              "    .colab-df-convert:hover {\n",
              "      background-color: #E2EBFA;\n",
              "      box-shadow: 0px 1px 2px rgba(60, 64, 67, 0.3), 0px 1px 3px 1px rgba(60, 64, 67, 0.15);\n",
              "      fill: #174EA6;\n",
              "    }\n",
              "\n",
              "    [theme=dark] .colab-df-convert {\n",
              "      background-color: #3B4455;\n",
              "      fill: #D2E3FC;\n",
              "    }\n",
              "\n",
              "    [theme=dark] .colab-df-convert:hover {\n",
              "      background-color: #434B5C;\n",
              "      box-shadow: 0px 1px 3px 1px rgba(0, 0, 0, 0.15);\n",
              "      filter: drop-shadow(0px 1px 2px rgba(0, 0, 0, 0.3));\n",
              "      fill: #FFFFFF;\n",
              "    }\n",
              "  </style>\n",
              "\n",
              "      <script>\n",
              "        const buttonEl =\n",
              "          document.querySelector('#df-4b39bd0f-925e-4bbe-b5db-f5a33e3a16ae button.colab-df-convert');\n",
              "        buttonEl.style.display =\n",
              "          google.colab.kernel.accessAllowed ? 'block' : 'none';\n",
              "\n",
              "        async function convertToInteractive(key) {\n",
              "          const element = document.querySelector('#df-4b39bd0f-925e-4bbe-b5db-f5a33e3a16ae');\n",
              "          const dataTable =\n",
              "            await google.colab.kernel.invokeFunction('convertToInteractive',\n",
              "                                                     [key], {});\n",
              "          if (!dataTable) return;\n",
              "\n",
              "          const docLinkHtml = 'Like what you see? Visit the ' +\n",
              "            '<a target=\"_blank\" href=https://colab.research.google.com/notebooks/data_table.ipynb>data table notebook</a>'\n",
              "            + ' to learn more about interactive tables.';\n",
              "          element.innerHTML = '';\n",
              "          dataTable['output_type'] = 'display_data';\n",
              "          await google.colab.output.renderOutput(dataTable, element);\n",
              "          const docLink = document.createElement('div');\n",
              "          docLink.innerHTML = docLinkHtml;\n",
              "          element.appendChild(docLink);\n",
              "        }\n",
              "      </script>\n",
              "    </div>\n",
              "  </div>\n",
              "  "
            ]
          },
          "metadata": {},
          "execution_count": 4
        }
      ]
    },
    {
      "cell_type": "code",
      "source": [
        "#display the counts by author\n",
        "\n",
        "df['author'].value_counts()"
      ],
      "metadata": {
        "colab": {
          "base_uri": "https://localhost:8080/"
        },
        "id": "xft6INvggP2l",
        "outputId": "dc39a0fa-9a25-4322-b617-a3adf571a322"
      },
      "execution_count": null,
      "outputs": [
        {
          "output_type": "execute_result",
          "data": {
            "text/plain": [
              "HAMILTON                49\n",
              "MADISON                 15\n",
              "HAMILTON OR MADISON     11\n",
              "JAY                      5\n",
              "HAMILTON AND MADISON     3\n",
              "Name: author, dtype: int64"
            ]
          },
          "metadata": {},
          "execution_count": 5
        }
      ]
    },
    {
      "cell_type": "markdown",
      "source": [
        "# **DIVIDE INTO TRAIN AND TEST**"
      ],
      "metadata": {
        "id": "67Re9C0Vrrk8"
      }
    },
    {
      "cell_type": "code",
      "source": [
        "#set up X and y\n",
        "X=df.text\n",
        "y=df.author\n"
      ],
      "metadata": {
        "id": "UBV4xS-5q49r"
      },
      "execution_count": null,
      "outputs": []
    },
    {
      "cell_type": "code",
      "source": [
        "#divide into train and test. \n",
        "from sklearn.model_selection import train_test_split\n",
        "X_train,X_test,y_train,y_test= train_test_split(X,y,test_size=0.2,train_size=0.8,random_state=1234)  "
      ],
      "metadata": {
        "id": "9eIu_vR9km3N"
      },
      "execution_count": null,
      "outputs": []
    },
    {
      "cell_type": "markdown",
      "source": [
        "# **3.TEXT PREPROCESSING** \n",
        "#### A. Process the text by removing stopwords and performing tf-idf vectorization\n",
        "#### B. Fit into the training data only and applied to train and test\n",
        "#### C. Output the traning set shape and the test set shape. \n",
        "  "
      ],
      "metadata": {
        "id": "zGcrxETzqMAp"
      }
    },
    {
      "cell_type": "code",
      "source": [
        "import nltk\n",
        "nltk.download('stopwords')"
      ],
      "metadata": {
        "id": "_bzaTAcPq0ns"
      },
      "execution_count": null,
      "outputs": []
    },
    {
      "cell_type": "code",
      "source": [
        "from nltk.corpus import stopwords\n",
        "from sklearn.feature_extraction.text import TfidfVectorizer\n",
        "\n",
        "stopwords=set(stopwords.words('english'))\n",
        "vectorizer=TfidfVectorizer(stop_words=stopwords)"
      ],
      "metadata": {
        "id": "Q00c5bLPtRoM"
      },
      "execution_count": null,
      "outputs": []
    },
    {
      "cell_type": "code",
      "source": [
        "#apply the tfidf vectorizer\n",
        "X_train=vectorizer.fit_transform(X_train) #fit and transform the train data\n",
        "X_test=vectorizer.transform(X_test) #transform only the test data"
      ],
      "metadata": {
        "id": "KdbW-KpPuTJS"
      },
      "execution_count": null,
      "outputs": []
    },
    {
      "cell_type": "code",
      "source": [
        "#output the training set shape and the test set shape\n",
        "print('train size: ',X_train.shape)\n",
        "print('test size: ',X_test.shape)"
      ],
      "metadata": {
        "colab": {
          "base_uri": "https://localhost:8080/"
        },
        "id": "l7jX2gNBusca",
        "outputId": "c9350a36-21a9-4ef2-9648-f37ac264199d"
      },
      "execution_count": null,
      "outputs": [
        {
          "output_type": "stream",
          "name": "stdout",
          "text": [
            "train size:  (66, 7876)\n",
            "test size:  (17, 7876)\n"
          ]
        }
      ]
    },
    {
      "cell_type": "markdown",
      "source": [
        "## **4. ATTEMPT A BERNOULLI NAIVE BAYES MODEL**\n"
      ],
      "metadata": {
        "id": "9xAGReDxdE2M"
      }
    },
    {
      "cell_type": "code",
      "source": [
        "#use bernoulli Naive Bayes\n",
        "from sklearn.naive_bayes import BernoulliNB\n",
        "\n",
        "naive_bayes=BernoulliNB()\n",
        "naive_bayes.fit(X_train,y_train)"
      ],
      "metadata": {
        "id": "uhzerOtpvoRk",
        "colab": {
          "base_uri": "https://localhost:8080/"
        },
        "outputId": "cb180077-d63a-4a00-c741-8753775a79aa"
      },
      "execution_count": null,
      "outputs": [
        {
          "output_type": "execute_result",
          "data": {
            "text/plain": [
              "BernoulliNB()"
            ]
          },
          "metadata": {},
          "execution_count": 12
        }
      ]
    },
    {
      "cell_type": "code",
      "source": [
        "#priors\n",
        "import math\n",
        "prior_p=sum(y_train==1)/len(y_train)\n",
        "print('prior spam: ',prior_p)"
      ],
      "metadata": {
        "colab": {
          "base_uri": "https://localhost:8080/"
        },
        "id": "9zSbnd7Ee-IL",
        "outputId": "932b685f-244c-4cd5-d7a0-e4f011b8ae96"
      },
      "execution_count": null,
      "outputs": [
        {
          "output_type": "stream",
          "name": "stdout",
          "text": [
            "prior spam:  0.0\n"
          ]
        }
      ]
    },
    {
      "cell_type": "code",
      "source": [
        "#naive byes log likelihood\n",
        "naive_bayes.feature_log_prob_"
      ],
      "metadata": {
        "colab": {
          "base_uri": "https://localhost:8080/"
        },
        "id": "YoC2FKXXh3_1",
        "outputId": "3e68afdf-ab81-432b-f0fa-92671decc661"
      },
      "execution_count": null,
      "outputs": [
        {
          "output_type": "execute_result",
          "data": {
            "text/plain": [
              "array([[-3.02042489, -2.61495978, -2.61495978, ..., -1.9218126 ,\n",
              "        -3.71357207, -2.32727771],\n",
              "       [-1.60943791, -1.60943791, -0.91629073, ..., -0.91629073,\n",
              "        -0.91629073, -1.60943791],\n",
              "       [-2.30258509, -2.30258509, -2.30258509, ..., -1.2039728 ,\n",
              "        -2.30258509, -2.30258509],\n",
              "       [-1.60943791, -1.60943791, -1.60943791, ..., -1.60943791,\n",
              "        -1.60943791, -1.60943791],\n",
              "       [-2.7080502 , -2.01490302, -2.01490302, ..., -0.62860866,\n",
              "        -2.7080502 , -2.01490302]])"
            ]
          },
          "metadata": {},
          "execution_count": 14
        }
      ]
    },
    {
      "cell_type": "markdown",
      "source": [
        "Evaluate on the test data\n"
      ],
      "metadata": {
        "id": "ommArv9jiHPX"
      }
    },
    {
      "cell_type": "code",
      "source": [
        "from sklearn.metrics import accuracy_score,precision_score,recall_score, f1_score,confusion_matrix\n",
        "\n",
        "#make predictions on the test data\n",
        "pred=naive_bayes.predict(X_test)\n",
        "\n",
        "#print confusion matrix\n",
        "print(confusion_matrix(y_test,pred))"
      ],
      "metadata": {
        "colab": {
          "base_uri": "https://localhost:8080/"
        },
        "id": "ipIbQ3l4iJ-a",
        "outputId": "9dce66ca-c6cb-41b2-85f3-bd1d3dd75a0a"
      },
      "execution_count": null,
      "outputs": [
        {
          "output_type": "stream",
          "name": "stdout",
          "text": [
            "[[10  0  0  0]\n",
            " [ 3  0  0  0]\n",
            " [ 2  0  0  0]\n",
            " [ 2  0  0  0]]\n"
          ]
        }
      ]
    },
    {
      "cell_type": "code",
      "source": [
        "#confusion matrix has the following form\n",
        "#tp (true positive)  #false positive\n",
        "#fn (false negative) # true negative. "
      ],
      "metadata": {
        "id": "b3rWRktYihKJ"
      },
      "execution_count": null,
      "outputs": []
    },
    {
      "cell_type": "markdown",
      "source": [
        "#### Accuracy Score\n",
        "As you can see, the accuracy score is a shocking 58% which is a pretty low accuracy. The precision scores with and without spam are both 58% approximately as well as the recall scores (with and without spam). From the classification report, we can clearly see that HAMILTON is the dominant classifier of all the classifiers. \n"
      ],
      "metadata": {
        "id": "nxRmA87x6lem"
      }
    },
    {
      "cell_type": "code",
      "source": [
        "#print out the metrics\n",
        "print('accuracy score: ',accuracy_score(y_test,pred))\n",
        "\n",
        "print('\\nprecision score (not spam): ', precision_score(y_test,pred,pos_label=0, average='macro'))\n",
        "\n",
        "print('\\nprecision score(spam): ',precision_score(y_test,pred,average='micro'))\n",
        "\n",
        "print('\\nrecall score: (not spam)', recall_score(y_test,pred,pos_label=0,average='micro'))\n",
        "print('recall score: (spam)',recall_score(y_test,pred,average='micro'))\n",
        "\n",
        "print('\\nf1 score: ',f1_score(y_test,pred, average='micro'))"
      ],
      "metadata": {
        "id": "OMRWYzoxizGD",
        "colab": {
          "base_uri": "https://localhost:8080/"
        },
        "outputId": "ac9d269c-3d44-4ef8-c618-36b43b0581d5"
      },
      "execution_count": null,
      "outputs": [
        {
          "output_type": "stream",
          "name": "stdout",
          "text": [
            "accuracy score:  0.5882352941176471\n",
            "\n",
            "precision score (not spam):  0.14705882352941177\n",
            "\n",
            "precision score(spam):  0.5882352941176471\n",
            "\n",
            "recall score: (not spam) 0.5882352941176471\n",
            "recall score: (spam) 0.5882352941176471\n",
            "\n",
            "f1 score:  0.5882352941176471\n"
          ]
        },
        {
          "output_type": "stream",
          "name": "stderr",
          "text": [
            "/usr/local/lib/python3.7/dist-packages/sklearn/metrics/_classification.py:1375: UserWarning: Note that pos_label (set to 0) is ignored when average != 'binary' (got 'macro'). You may use labels=[pos_label] to specify a single positive class.\n",
            "  UserWarning,\n",
            "/usr/local/lib/python3.7/dist-packages/sklearn/metrics/_classification.py:1318: UndefinedMetricWarning: Precision is ill-defined and being set to 0.0 in labels with no predicted samples. Use `zero_division` parameter to control this behavior.\n",
            "  _warn_prf(average, modifier, msg_start, len(result))\n",
            "/usr/local/lib/python3.7/dist-packages/sklearn/metrics/_classification.py:1375: UserWarning: Note that pos_label (set to 0) is ignored when average != 'binary' (got 'micro'). You may use labels=[pos_label] to specify a single positive class.\n",
            "  UserWarning,\n"
          ]
        }
      ]
    },
    {
      "cell_type": "code",
      "source": [
        "#print the classification report. \n",
        "from sklearn.metrics import classification_report\n",
        "print(classification_report(y_test,pred))"
      ],
      "metadata": {
        "colab": {
          "base_uri": "https://localhost:8080/"
        },
        "id": "LZa6EKBH5QT9",
        "outputId": "4b776924-0831-4e3a-db4f-1a08393a0e74"
      },
      "execution_count": null,
      "outputs": [
        {
          "output_type": "stream",
          "name": "stdout",
          "text": [
            "                     precision    recall  f1-score   support\n",
            "\n",
            "           HAMILTON       0.59      1.00      0.74        10\n",
            "HAMILTON OR MADISON       0.00      0.00      0.00         3\n",
            "                JAY       0.00      0.00      0.00         2\n",
            "            MADISON       0.00      0.00      0.00         2\n",
            "\n",
            "           accuracy                           0.59        17\n",
            "          macro avg       0.15      0.25      0.19        17\n",
            "       weighted avg       0.35      0.59      0.44        17\n",
            "\n"
          ]
        },
        {
          "output_type": "stream",
          "name": "stderr",
          "text": [
            "/usr/local/lib/python3.7/dist-packages/sklearn/metrics/_classification.py:1318: UndefinedMetricWarning: Precision and F-score are ill-defined and being set to 0.0 in labels with no predicted samples. Use `zero_division` parameter to control this behavior.\n",
            "  _warn_prf(average, modifier, msg_start, len(result))\n",
            "/usr/local/lib/python3.7/dist-packages/sklearn/metrics/_classification.py:1318: UndefinedMetricWarning: Precision and F-score are ill-defined and being set to 0.0 in labels with no predicted samples. Use `zero_division` parameter to control this behavior.\n",
            "  _warn_prf(average, modifier, msg_start, len(result))\n",
            "/usr/local/lib/python3.7/dist-packages/sklearn/metrics/_classification.py:1318: UndefinedMetricWarning: Precision and F-score are ill-defined and being set to 0.0 in labels with no predicted samples. Use `zero_division` parameter to control this behavior.\n",
            "  _warn_prf(average, modifier, msg_start, len(result))\n"
          ]
        }
      ]
    },
    {
      "cell_type": "markdown",
      "source": [
        "#  **5.Redo vectorization with max_features set to 1000**"
      ],
      "metadata": {
        "id": "4hDCtgtE9sUg"
      }
    },
    {
      "cell_type": "code",
      "source": [
        "vectorizer=TfidfVectorizer(max_features=1000)"
      ],
      "metadata": {
        "id": "tzDfRjj39WCv"
      },
      "execution_count": null,
      "outputs": []
    },
    {
      "cell_type": "code",
      "source": [
        "#divide into train and test. \n",
        "from sklearn.model_selection import train_test_split\n",
        "X_train,X_test,y_train,y_test= train_test_split(X,y,test_size=0.2,train_size=0.8,random_state=1234) "
      ],
      "metadata": {
        "id": "eaNWW3PM3dI4"
      },
      "execution_count": null,
      "outputs": []
    },
    {
      "cell_type": "code",
      "source": [
        "#apply the tfidf vectorizer\n",
        "X_train=vectorizer.fit_transform(X_train) #fit and transform the train data\n",
        "X_test=vectorizer.transform(X_test) #transform only the test data"
      ],
      "metadata": {
        "id": "WxeEjKh75agN"
      },
      "execution_count": null,
      "outputs": []
    },
    {
      "cell_type": "code",
      "source": [
        "#output the training set shape and the test set shape\n",
        "print('train size: ',X_train.shape)\n",
        "print('test size: ',X_test.shape)\n"
      ],
      "metadata": {
        "id": "dFkFFd3a6dVW",
        "colab": {
          "base_uri": "https://localhost:8080/"
        },
        "outputId": "7325f1e0-e228-4210-9229-ed4110f45622"
      },
      "execution_count": null,
      "outputs": [
        {
          "output_type": "stream",
          "name": "stdout",
          "text": [
            "train size:  (66, 1000)\n",
            "test size:  (17, 1000)\n"
          ]
        }
      ]
    },
    {
      "cell_type": "code",
      "source": [
        "vectorizer=TfidfVectorizer(min_df=2,max_df=0.5,ngram_range=(1,2))"
      ],
      "metadata": {
        "id": "pDesqTJm3fKN"
      },
      "execution_count": null,
      "outputs": []
    },
    {
      "cell_type": "markdown",
      "source": [
        "**Try NAIVE BAYES AGAIN**"
      ],
      "metadata": {
        "id": "yPWEYkzRTXd1"
      }
    },
    {
      "cell_type": "code",
      "source": [
        "from sklearn.naive_bayes import BernoulliNB\n",
        "\n",
        "naive_bayes=BernoulliNB()\n",
        "naive_bayes.fit(X_train,y_train)"
      ],
      "metadata": {
        "colab": {
          "base_uri": "https://localhost:8080/"
        },
        "outputId": "01b2c88a-0dfe-4bc1-a4f7-0b49ccde6399",
        "id": "T5YdOc34T_k1"
      },
      "execution_count": null,
      "outputs": [
        {
          "output_type": "execute_result",
          "data": {
            "text/plain": [
              "BernoulliNB()"
            ]
          },
          "metadata": {},
          "execution_count": 35
        }
      ]
    },
    {
      "cell_type": "code",
      "source": [
        "#priors\n",
        "import math\n",
        "prior_p=sum(y_train==1)/len(y_train)\n",
        "print('prior spam: ',prior_p)"
      ],
      "metadata": {
        "colab": {
          "base_uri": "https://localhost:8080/"
        },
        "id": "ioMyv7mQUByB",
        "outputId": "1dd25f33-882d-4372-ccc2-ba7704316d78"
      },
      "execution_count": null,
      "outputs": [
        {
          "output_type": "stream",
          "name": "stdout",
          "text": [
            "prior spam:  0.0\n"
          ]
        }
      ]
    },
    {
      "cell_type": "code",
      "source": [
        "#naive byes log likelihood\n",
        "naive_bayes.feature_log_prob_"
      ],
      "metadata": {
        "colab": {
          "base_uri": "https://localhost:8080/"
        },
        "id": "zKHLPCAlUFZ8",
        "outputId": "510c37d9-9cf0-421a-e7d6-983cea30b839"
      },
      "execution_count": null,
      "outputs": [
        {
          "output_type": "execute_result",
          "data": {
            "text/plain": [
              "array([[-1.00552187, -0.71783979, -1.22866542, ..., -2.32727771,\n",
              "        -2.61495978, -1.9218126 ],\n",
              "       [-1.60943791, -1.60943791, -0.91629073, ..., -1.60943791,\n",
              "        -1.60943791, -0.91629073],\n",
              "       [-0.22314355, -0.91629073, -1.60943791, ..., -1.60943791,\n",
              "        -2.30258509, -1.2039728 ],\n",
              "       [-1.60943791, -0.51082562, -1.60943791, ..., -0.91629073,\n",
              "        -1.60943791, -1.60943791],\n",
              "       [-0.62860866, -0.76214005, -2.01490302, ..., -1.60943791,\n",
              "        -2.01490302, -0.62860866]])"
            ]
          },
          "metadata": {},
          "execution_count": 37
        }
      ]
    },
    {
      "cell_type": "code",
      "source": [
        "from sklearn.metrics import accuracy_score,precision_score,recall_score, f1_score,confusion_matrix\n",
        "\n",
        "#make predictions on the test data\n",
        "pred=naive_bayes.predict(X_test)\n",
        "\n",
        "#print confusion matrix\n",
        "print(confusion_matrix(y_test,pred))"
      ],
      "metadata": {
        "colab": {
          "base_uri": "https://localhost:8080/"
        },
        "id": "tt-ApKNQUN8a",
        "outputId": "a4535366-9b92-4ced-b420-aaf3e4b7216f"
      },
      "execution_count": null,
      "outputs": [
        {
          "output_type": "stream",
          "name": "stdout",
          "text": [
            "[[10  0  0  0]\n",
            " [ 0  3  0  0]\n",
            " [ 1  0  1  0]\n",
            " [ 0  0  0  2]]\n"
          ]
        }
      ]
    },
    {
      "cell_type": "code",
      "source": [
        "#confusion matrix has the following form\n",
        "#tp (true positive)  #false positive\n",
        "#fn (false negative) # true negative. "
      ],
      "metadata": {
        "id": "4EpPuFg7UR53"
      },
      "execution_count": null,
      "outputs": []
    },
    {
      "cell_type": "markdown",
      "source": [
        "#  Improvements\n",
        "Accuracy\n",
        "As you can see, the accuracy has improved to a booming 94% from 58%. "
      ],
      "metadata": {
        "id": "4aKywL3qUXo1"
      }
    },
    {
      "cell_type": "code",
      "source": [
        "print('accuracy score: ',accuracy_score(y_test,pred))\n",
        "\n",
        "print('\\nprecision score (not spam): ', precision_score(y_test,pred,pos_label=0, average='micro'))\n",
        "\n",
        "print('\\nprecision score(spam): ',precision_score(y_test,pred,average='micro'))\n",
        "\n",
        "print('\\nrecall score: (not spam)', recall_score(y_test,pred,pos_label=0,average='micro'))\n",
        "print('recall score: (spam)',recall_score(y_test,pred,average='micro'))\n",
        "\n",
        "print('\\nf1 score: ',f1_score(y_test,pred, average='micro'))"
      ],
      "metadata": {
        "colab": {
          "base_uri": "https://localhost:8080/"
        },
        "id": "xBvIi5w4USt_",
        "outputId": "7b3d7eac-4037-4eec-c2ce-0d055be44fcc"
      },
      "execution_count": null,
      "outputs": [
        {
          "output_type": "stream",
          "name": "stdout",
          "text": [
            "accuracy score:  0.9411764705882353\n",
            "\n",
            "precision score (not spam):  0.9411764705882353\n",
            "\n",
            "precision score(spam):  0.9411764705882353\n",
            "\n",
            "recall score: (not spam) 0.9411764705882353\n",
            "recall score: (spam) 0.9411764705882353\n",
            "\n",
            "f1 score:  0.9411764705882353\n"
          ]
        },
        {
          "output_type": "stream",
          "name": "stderr",
          "text": [
            "/usr/local/lib/python3.7/dist-packages/sklearn/metrics/_classification.py:1375: UserWarning: Note that pos_label (set to 0) is ignored when average != 'binary' (got 'micro'). You may use labels=[pos_label] to specify a single positive class.\n",
            "  UserWarning,\n",
            "/usr/local/lib/python3.7/dist-packages/sklearn/metrics/_classification.py:1375: UserWarning: Note that pos_label (set to 0) is ignored when average != 'binary' (got 'micro'). You may use labels=[pos_label] to specify a single positive class.\n",
            "  UserWarning,\n"
          ]
        }
      ]
    },
    {
      "cell_type": "code",
      "source": [
        "#print the classification report. \n",
        "from sklearn.metrics import classification_report\n",
        "print(classification_report(y_test,pred))"
      ],
      "metadata": {
        "colab": {
          "base_uri": "https://localhost:8080/"
        },
        "id": "YIxwdFX_oECW",
        "outputId": "0e2b0ada-9846-43b0-cff7-438df1e40393"
      },
      "execution_count": null,
      "outputs": [
        {
          "output_type": "stream",
          "name": "stdout",
          "text": [
            "                     precision    recall  f1-score   support\n",
            "\n",
            "           HAMILTON       0.91      1.00      0.95        10\n",
            "HAMILTON OR MADISON       1.00      1.00      1.00         3\n",
            "                JAY       1.00      0.50      0.67         2\n",
            "            MADISON       1.00      1.00      1.00         2\n",
            "\n",
            "           accuracy                           0.94        17\n",
            "          macro avg       0.98      0.88      0.90        17\n",
            "       weighted avg       0.95      0.94      0.93        17\n",
            "\n"
          ]
        }
      ]
    },
    {
      "cell_type": "markdown",
      "source": [
        "# **6. Try Logistic Regression**"
      ],
      "metadata": {
        "id": "-m1y6gRYY7hQ"
      }
    },
    {
      "cell_type": "markdown",
      "source": [
        "In this scenario, with max_features=1000, the Logistic Regression DID NOT IMPROVE IN ACCURACY WITH AND WITHOUT THE PIPELINE AS OPPOSED TO THE REFACTORED NAIVE BAYES WITH max_features=1000. "
      ],
      "metadata": {
        "id": "VACqZLeLHxfd"
      }
    },
    {
      "cell_type": "code",
      "source": [
        "from sklearn.linear_model import LogisticRegression\n"
      ],
      "metadata": {
        "id": "j6JHJeQtUW1J"
      },
      "execution_count": null,
      "outputs": []
    },
    {
      "cell_type": "code",
      "source": [
        "vectorizer=TfidfVectorizer(max_features=1000)"
      ],
      "metadata": {
        "id": "jNVOhrreDMp4"
      },
      "execution_count": null,
      "outputs": []
    },
    {
      "cell_type": "code",
      "source": [
        "#divide into train and test. \n",
        "from sklearn.model_selection import train_test_split\n",
        "X_train,X_test,y_train,y_test= train_test_split(X,y,test_size=0.2,train_size=0.8,random_state=1234) "
      ],
      "metadata": {
        "id": "BoN8aORvECgl"
      },
      "execution_count": null,
      "outputs": []
    },
    {
      "cell_type": "code",
      "source": [
        "#apply the tfidf vectorizer\n",
        "X_train=vectorizer.fit_transform(X_train) #fit and transform the train data\n",
        "X_test=vectorizer.transform(X_test) #transform only the test data"
      ],
      "metadata": {
        "id": "t0qK2sR-EHct"
      },
      "execution_count": null,
      "outputs": []
    },
    {
      "cell_type": "code",
      "source": [
        "classifier=LogisticRegression(solver='lbfgs', multi_class='multinomial',class_weight='balanced')"
      ],
      "metadata": {
        "id": "AtEnjZGjoW19"
      },
      "execution_count": null,
      "outputs": []
    },
    {
      "cell_type": "code",
      "source": [
        "#output the training set shape and the test set shape\n",
        "print('train size: ',X_train.shape)\n",
        "print('test size: ',X_test.shape)"
      ],
      "metadata": {
        "colab": {
          "base_uri": "https://localhost:8080/"
        },
        "id": "jogopgkrEMtp",
        "outputId": "6730e13f-b8ea-4396-9266-a8ac22587ebc"
      },
      "execution_count": null,
      "outputs": [
        {
          "output_type": "stream",
          "name": "stdout",
          "text": [
            "train size:  (66, 1000)\n",
            "test size:  (17, 1000)\n"
          ]
        }
      ]
    },
    {
      "cell_type": "code",
      "source": [
        "classifier.fit(X_train , y_train)"
      ],
      "metadata": {
        "colab": {
          "base_uri": "https://localhost:8080/"
        },
        "id": "5dmN3Rr2qUpR",
        "outputId": "a5d700fe-82b5-4e21-b4e1-900341cb4548"
      },
      "execution_count": null,
      "outputs": [
        {
          "output_type": "execute_result",
          "data": {
            "text/plain": [
              "LogisticRegression(class_weight='balanced', multi_class='multinomial')"
            ]
          },
          "metadata": {},
          "execution_count": 48
        }
      ]
    },
    {
      "cell_type": "code",
      "source": [
        "# evaluate\n",
        "pred = classifier.predict(X_test)\n",
        "print('accuracy score: ', accuracy_score(y_test, pred))\n",
        "print('precision score: ', precision_score(y_test, pred, average='micro'))\n",
        "print('recall score: ', recall_score(y_test, pred,average='micro'))\n",
        "print('f1 score: ', f1_score(y_test, pred,average='micro'))\n",
        "probs = classifier.predict_proba(X_test)"
      ],
      "metadata": {
        "colab": {
          "base_uri": "https://localhost:8080/"
        },
        "id": "p4pmwNZCpsBN",
        "outputId": "0e2eb835-e851-4d3d-e7cd-71efecfc0a18"
      },
      "execution_count": null,
      "outputs": [
        {
          "output_type": "stream",
          "name": "stdout",
          "text": [
            "accuracy score:  0.9411764705882353\n",
            "precision score:  0.9411764705882353\n",
            "recall score:  0.9411764705882353\n",
            "f1 score:  0.9411764705882353\n"
          ]
        }
      ]
    },
    {
      "cell_type": "code",
      "source": [
        "#print the classification report. \n",
        "from sklearn.metrics import classification_report\n",
        "print(classification_report(y_test,pred))"
      ],
      "metadata": {
        "colab": {
          "base_uri": "https://localhost:8080/"
        },
        "id": "AxXvOl_aoSPy",
        "outputId": "89e60751-5bec-43cf-88c8-60813be877fe"
      },
      "execution_count": null,
      "outputs": [
        {
          "output_type": "stream",
          "name": "stdout",
          "text": [
            "                     precision    recall  f1-score   support\n",
            "\n",
            "           HAMILTON       0.91      1.00      0.95        10\n",
            "HAMILTON OR MADISON       1.00      1.00      1.00         3\n",
            "                JAY       1.00      1.00      1.00         2\n",
            "            MADISON       1.00      0.50      0.67         2\n",
            "\n",
            "           accuracy                           0.94        17\n",
            "          macro avg       0.98      0.88      0.90        17\n",
            "       weighted avg       0.95      0.94      0.93        17\n",
            "\n"
          ]
        }
      ]
    },
    {
      "cell_type": "code",
      "source": [
        "from sklearn.pipeline import Pipeline"
      ],
      "metadata": {
        "id": "D4PG2-35uhDp"
      },
      "execution_count": null,
      "outputs": []
    },
    {
      "cell_type": "code",
      "source": [
        "pipe1 = Pipeline([\n",
        "        ('tfidf', TfidfVectorizer(binary=True)),\n",
        "        ('logreg', LogisticRegression(solver='lbfgs',class_weight='balanced')),\n",
        "])"
      ],
      "metadata": {
        "id": "LH1WngqduVgJ"
      },
      "execution_count": null,
      "outputs": []
    },
    {
      "cell_type": "code",
      "source": [
        "print('accuracy score: ', accuracy_score(y_test, pred))\n",
        "print('precision score: ', precision_score(y_test, pred, average='micro'))\n",
        "print('recall score: ', recall_score(y_test, pred,average='micro'))\n",
        "print('f1 score: ', f1_score(y_test, pred,average='micro'))\n",
        "\n"
      ],
      "metadata": {
        "colab": {
          "base_uri": "https://localhost:8080/"
        },
        "id": "fP_scD3Wumkp",
        "outputId": "5001f646-3aad-4d86-b4b8-50b986c49781"
      },
      "execution_count": null,
      "outputs": [
        {
          "output_type": "stream",
          "name": "stdout",
          "text": [
            "accuracy score:  0.9411764705882353\n",
            "precision score:  0.9411764705882353\n",
            "recall score:  0.9411764705882353\n",
            "f1 score:  0.9411764705882353\n"
          ]
        }
      ]
    },
    {
      "cell_type": "code",
      "source": [
        "#print the classification report. \n",
        "from sklearn.metrics import classification_report\n",
        "print(classification_report(y_test,pred))"
      ],
      "metadata": {
        "id": "otG8LPDAoXUP",
        "outputId": "a4940b1d-901b-4d66-e7bd-2c338d89c0cf",
        "colab": {
          "base_uri": "https://localhost:8080/"
        }
      },
      "execution_count": null,
      "outputs": [
        {
          "output_type": "stream",
          "name": "stdout",
          "text": [
            "                     precision    recall  f1-score   support\n",
            "\n",
            "           HAMILTON       0.91      1.00      0.95        10\n",
            "HAMILTON OR MADISON       1.00      1.00      1.00         3\n",
            "                JAY       1.00      1.00      1.00         2\n",
            "            MADISON       1.00      0.50      0.67         2\n",
            "\n",
            "           accuracy                           0.94        17\n",
            "          macro avg       0.98      0.88      0.90        17\n",
            "       weighted avg       0.95      0.94      0.93        17\n",
            "\n"
          ]
        }
      ]
    },
    {
      "cell_type": "markdown",
      "source": [
        "#  **Try a Neural Network**"
      ],
      "metadata": {
        "id": "dpvsdLogOV3W"
      }
    },
    {
      "cell_type": "markdown",
      "source": [
        "### **When we go ahead to try a neural network,using the MLPClassifier, we get a drop in accuracy from 94% to 82%**"
      ],
      "metadata": {
        "id": "U0WNHw39P5ph"
      }
    },
    {
      "cell_type": "code",
      "source": [
        "#use the MLP classifier for the neural network\n",
        "from sklearn.neural_network import MLPClassifier\n",
        "classifier = MLPClassifier(solver='lbfgs', alpha=1e-5,\n",
        "                   hidden_layer_sizes=(15, 2), random_state=1)\n",
        "classifier.fit(X_train, y_train)"
      ],
      "metadata": {
        "colab": {
          "base_uri": "https://localhost:8080/"
        },
        "id": "OTnXqFfbG1jy",
        "outputId": "a12519f4-a3e6-4602-fabd-e8adca165bcc"
      },
      "execution_count": null,
      "outputs": [
        {
          "output_type": "execute_result",
          "data": {
            "text/plain": [
              "MLPClassifier(alpha=1e-05, hidden_layer_sizes=(15, 2), random_state=1,\n",
              "              solver='lbfgs')"
            ]
          },
          "metadata": {},
          "execution_count": 55
        }
      ]
    },
    {
      "cell_type": "code",
      "source": [
        "#get all the necessary metrics, accuracy score, precision score, recall score, and f1 score\n",
        "from sklearn.metrics import accuracy_score\n",
        "from sklearn.metrics import precision_score, recall_score, f1_score\n",
        "pred = classifier.predict(X_test)\n",
        "print('accuracy score: ', accuracy_score(y_test, pred))\n",
        "print('precision score: ', precision_score(y_test, pred, average='micro'))\n",
        "print('recall score: ', recall_score(y_test, pred,average='micro'))\n",
        "print('f1 score: ', f1_score(y_test, pred,average='micro'))"
      ],
      "metadata": {
        "colab": {
          "base_uri": "https://localhost:8080/"
        },
        "id": "7JS2di6vkWUg",
        "outputId": "e914603c-cf90-4cfb-9c20-b06e9c1616ec"
      },
      "execution_count": null,
      "outputs": [
        {
          "output_type": "stream",
          "name": "stdout",
          "text": [
            "accuracy score:  0.8235294117647058\n",
            "precision score:  0.8235294117647058\n",
            "recall score:  0.8235294117647058\n",
            "f1 score:  0.8235294117647058\n"
          ]
        }
      ]
    },
    {
      "cell_type": "code",
      "source": [
        "#print the classification report. \n",
        "from sklearn.metrics import classification_report\n",
        "print(classification_report(y_test,pred))"
      ],
      "metadata": {
        "id": "Z4InpgjboZJv",
        "outputId": "6bb53ce5-f940-42b8-9b81-d3a43464934c",
        "colab": {
          "base_uri": "https://localhost:8080/"
        }
      },
      "execution_count": null,
      "outputs": [
        {
          "output_type": "stream",
          "name": "stdout",
          "text": [
            "                      precision    recall  f1-score   support\n",
            "\n",
            "            HAMILTON       1.00      1.00      1.00        10\n",
            "HAMILTON AND MADISON       0.00      0.00      0.00         0\n",
            " HAMILTON OR MADISON       0.75      1.00      0.86         3\n",
            "                 JAY       0.00      0.00      0.00         2\n",
            "             MADISON       1.00      0.50      0.67         2\n",
            "\n",
            "            accuracy                           0.82        17\n",
            "           macro avg       0.55      0.50      0.50        17\n",
            "        weighted avg       0.84      0.82      0.82        17\n",
            "\n"
          ]
        },
        {
          "output_type": "stream",
          "name": "stderr",
          "text": [
            "/usr/local/lib/python3.7/dist-packages/sklearn/metrics/_classification.py:1318: UndefinedMetricWarning: Precision and F-score are ill-defined and being set to 0.0 in labels with no predicted samples. Use `zero_division` parameter to control this behavior.\n",
            "  _warn_prf(average, modifier, msg_start, len(result))\n",
            "/usr/local/lib/python3.7/dist-packages/sklearn/metrics/_classification.py:1318: UndefinedMetricWarning: Recall and F-score are ill-defined and being set to 0.0 in labels with no true samples. Use `zero_division` parameter to control this behavior.\n",
            "  _warn_prf(average, modifier, msg_start, len(result))\n",
            "/usr/local/lib/python3.7/dist-packages/sklearn/metrics/_classification.py:1318: UndefinedMetricWarning: Precision and F-score are ill-defined and being set to 0.0 in labels with no predicted samples. Use `zero_division` parameter to control this behavior.\n",
            "  _warn_prf(average, modifier, msg_start, len(result))\n",
            "/usr/local/lib/python3.7/dist-packages/sklearn/metrics/_classification.py:1318: UndefinedMetricWarning: Recall and F-score are ill-defined and being set to 0.0 in labels with no true samples. Use `zero_division` parameter to control this behavior.\n",
            "  _warn_prf(average, modifier, msg_start, len(result))\n",
            "/usr/local/lib/python3.7/dist-packages/sklearn/metrics/_classification.py:1318: UndefinedMetricWarning: Precision and F-score are ill-defined and being set to 0.0 in labels with no predicted samples. Use `zero_division` parameter to control this behavior.\n",
            "  _warn_prf(average, modifier, msg_start, len(result))\n",
            "/usr/local/lib/python3.7/dist-packages/sklearn/metrics/_classification.py:1318: UndefinedMetricWarning: Recall and F-score are ill-defined and being set to 0.0 in labels with no true samples. Use `zero_division` parameter to control this behavior.\n",
            "  _warn_prf(average, modifier, msg_start, len(result))\n"
          ]
        }
      ]
    },
    {
      "cell_type": "markdown",
      "source": [
        "**Let us change the hidden_layer_sizes parameters to 10 and 2 and see what happens.**\n",
        "\n",
        "Results: When we keep the first parameter of hidden_layer_sizes as 15 but change the second parameter to 3, we get a higher accuracy of 88%\n",
        "This is not as good as the re-trial of Naive Bayes were max_features was set to 1000 but it is a good accuracy. "
      ],
      "metadata": {
        "id": "k67jPfwoUPkD"
      }
    },
    {
      "cell_type": "code",
      "source": [
        "#use the MLP classifier for the neural network\n",
        "from sklearn.neural_network import MLPClassifier\n",
        "classifier = MLPClassifier(solver='lbfgs', alpha=1e-5,\n",
        "                   hidden_layer_sizes=(15, 3), random_state=1)\n",
        "classifier.fit(X_train, y_train)"
      ],
      "metadata": {
        "colab": {
          "base_uri": "https://localhost:8080/"
        },
        "outputId": "cae0d38c-879c-4648-ae22-bfa15be2b02b",
        "id": "NzivIEBScUrG"
      },
      "execution_count": null,
      "outputs": [
        {
          "output_type": "stream",
          "name": "stderr",
          "text": [
            "/usr/local/lib/python3.7/dist-packages/sklearn/neural_network/_multilayer_perceptron.py:549: ConvergenceWarning: lbfgs failed to converge (status=1):\n",
            "STOP: TOTAL NO. of ITERATIONS REACHED LIMIT.\n",
            "\n",
            "Increase the number of iterations (max_iter) or scale the data as shown in:\n",
            "    https://scikit-learn.org/stable/modules/preprocessing.html\n",
            "  self.n_iter_ = _check_optimize_result(\"lbfgs\", opt_res, self.max_iter)\n"
          ]
        },
        {
          "output_type": "execute_result",
          "data": {
            "text/plain": [
              "MLPClassifier(alpha=1e-05, hidden_layer_sizes=(15, 3), random_state=1,\n",
              "              solver='lbfgs')"
            ]
          },
          "metadata": {},
          "execution_count": 69
        }
      ]
    },
    {
      "cell_type": "code",
      "source": [
        "#get all the necessary metrics, accuracy score, precision score, recall score, and f1 score\n",
        "from sklearn.metrics import accuracy_score\n",
        "from sklearn.metrics import precision_score, recall_score, f1_score\n",
        "pred = classifier.predict(X_test)\n",
        "print('accuracy score: ', accuracy_score(y_test, pred))\n",
        "print('precision score: ', precision_score(y_test, pred, average='micro'))\n",
        "print('recall score: ', recall_score(y_test, pred,average='micro'))\n",
        "print('f1 score: ', f1_score(y_test, pred,average='micro'))"
      ],
      "metadata": {
        "colab": {
          "base_uri": "https://localhost:8080/"
        },
        "id": "NDy1PgebdCDK",
        "outputId": "2e660879-130a-4851-f6f9-9b953ceac5a1"
      },
      "execution_count": null,
      "outputs": [
        {
          "output_type": "stream",
          "name": "stdout",
          "text": [
            "accuracy score:  0.8823529411764706\n",
            "precision score:  0.8823529411764706\n",
            "recall score:  0.8823529411764706\n",
            "f1 score:  0.8823529411764706\n"
          ]
        }
      ]
    }
  ]
}