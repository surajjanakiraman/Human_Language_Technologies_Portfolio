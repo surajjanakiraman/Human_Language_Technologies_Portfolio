{
  "nbformat": 4,
  "nbformat_minor": 0,
  "metadata": {
    "colab": {
      "provenance": []
    },
    "kernelspec": {
      "name": "python3",
      "display_name": "Python 3"
    },
    "language_info": {
      "name": "python"
    }
  },
  "cells": [
    {
      "cell_type": "markdown",
      "source": [
        "**Summary of WordNET**\n",
        "Wordnet is a method of neatly organizing grammar phrases (including nouns, verbs, adjectives, adverbs, etc.). Wordnet includes Synsets which are an indication of the different potential usages of a verb and also utilizes morphy to get the root form of a word. \n"
      ],
      "metadata": {
        "id": "UySqsKJCCk_9"
      }
    },
    {
      "cell_type": "code",
      "execution_count": null,
      "metadata": {
        "id": "IAl7R_l7zyvr"
      },
      "outputs": [],
      "source": [
        "#select a noun and output all the synsets. \n",
        "from nltk.corpus import wordnet as wn"
      ]
    },
    {
      "cell_type": "code",
      "source": [
        "import nltk\n",
        "nltk.download('wordnet')\n",
        "nltk.download('omw-1.4')"
      ],
      "metadata": {
        "colab": {
          "base_uri": "https://localhost:8080/"
        },
        "id": "nndimEv20gUZ",
        "outputId": "f8affcbb-5617-41a9-a21b-6c89bfb63a8d"
      },
      "execution_count": null,
      "outputs": [
        {
          "output_type": "stream",
          "name": "stderr",
          "text": [
            "[nltk_data] Downloading package wordnet to /root/nltk_data...\n",
            "[nltk_data]   Package wordnet is already up-to-date!\n",
            "[nltk_data] Downloading package omw-1.4 to /root/nltk_data...\n",
            "[nltk_data]   Package omw-1.4 is already up-to-date!\n"
          ]
        },
        {
          "output_type": "execute_result",
          "data": {
            "text/plain": [
              "True"
            ]
          },
          "metadata": {},
          "execution_count": 22
        }
      ]
    },
    {
      "cell_type": "code",
      "source": [
        "#1. select a noun and output all the synsets. \n",
        "wn.synsets('heart') #heart is a noun. "
      ],
      "metadata": {
        "colab": {
          "base_uri": "https://localhost:8080/"
        },
        "id": "GSnkvqvd0Gyp",
        "outputId": "305eb756-c14e-4426-dbe3-49fd380e7454"
      },
      "execution_count": null,
      "outputs": [
        {
          "output_type": "execute_result",
          "data": {
            "text/plain": [
              "[Synset('heart.n.01'),\n",
              " Synset('heart.n.02'),\n",
              " Synset('heart.n.03'),\n",
              " Synset('center.n.01'),\n",
              " Synset('kernel.n.03'),\n",
              " Synset('heart.n.06'),\n",
              " Synset('heart.n.07'),\n",
              " Synset('heart.n.08'),\n",
              " Synset('affection.n.01'),\n",
              " Synset('heart.n.10')]"
            ]
          },
          "metadata": {},
          "execution_count": 5
        }
      ]
    },
    {
      "cell_type": "code",
      "source": [
        "wn.synset('heart.n.01').definition()"
      ],
      "metadata": {
        "colab": {
          "base_uri": "https://localhost:8080/",
          "height": 35
        },
        "id": "n8tKE2hO0pJP",
        "outputId": "6511b11a-d16f-4bfa-aef7-12829a1fc559"
      },
      "execution_count": null,
      "outputs": [
        {
          "output_type": "execute_result",
          "data": {
            "text/plain": [
              "'the locus of feelings and intuitions'"
            ],
            "application/vnd.google.colaboratory.intrinsic+json": {
              "type": "string"
            }
          },
          "metadata": {},
          "execution_count": 6
        }
      ]
    },
    {
      "cell_type": "code",
      "source": [
        "# extract examples\n",
        "\n",
        "wn.synset('heart.n.01').examples()"
      ],
      "metadata": {
        "colab": {
          "base_uri": "https://localhost:8080/"
        },
        "id": "8mWSYsOm0t-N",
        "outputId": "a557927a-c53e-41f7-ab03-3eaa19567ee6"
      },
      "execution_count": null,
      "outputs": [
        {
          "output_type": "execute_result",
          "data": {
            "text/plain": [
              "['in your heart you know it is true', 'her story would melt your bosom']"
            ]
          },
          "metadata": {},
          "execution_count": 7
        }
      ]
    },
    {
      "cell_type": "code",
      "source": [
        "#extract the lemmas\n",
        "#get the lemmas\n",
        "heart=wn.synset('heart.n.01')\n",
        "heart.lemmas()"
      ],
      "metadata": {
        "colab": {
          "base_uri": "https://localhost:8080/"
        },
        "id": "RlMLAUTD3VZH",
        "outputId": "868f9ac6-0919-4924-e97e-981e33169911"
      },
      "execution_count": null,
      "outputs": [
        {
          "output_type": "execute_result",
          "data": {
            "text/plain": [
              "[Lemma('heart.n.01.heart'), Lemma('heart.n.01.bosom')]"
            ]
          },
          "metadata": {},
          "execution_count": 8
        }
      ]
    },
    {
      "cell_type": "code",
      "source": [
        "heart=wn.synset('heart.n.01')\n",
        "print('hypernyms: ', heart.hypernyms())\n",
        "print('hyponyms: ', heart.hyponyms())\n",
        "print('meronyms: ', heart.part_meronyms())\n",
        "print('holonyms: ',heart.part_holonyms())\n",
        "# get the antonyms\n",
        "# get the first synset\n",
        "\n",
        "#get the antonyms\n",
        "print('antonyms: ',heart.lemmas()[0].antonyms())\n",
        "\n"
      ],
      "metadata": {
        "id": "tNvyj_Qo1Lwq",
        "colab": {
          "base_uri": "https://localhost:8080/"
        },
        "outputId": "81712a6b-0ba8-4c14-a436-56d5da4320f6"
      },
      "execution_count": null,
      "outputs": [
        {
          "output_type": "stream",
          "name": "stdout",
          "text": [
            "hypernyms:  [Synset('intuition.n.02')]\n",
            "hyponyms:  []\n",
            "meronyms:  []\n",
            "holonyms:  []\n",
            "antonyms:  []\n"
          ]
        }
      ]
    },
    {
      "cell_type": "code",
      "source": [
        "#select a verb\n",
        "wn.synsets('creates')\n",
        "\n"
      ],
      "metadata": {
        "colab": {
          "base_uri": "https://localhost:8080/"
        },
        "id": "M1QkkgDNs77H",
        "outputId": "1e303562-7956-4879-c8f2-3a70b9085d71"
      },
      "execution_count": null,
      "outputs": [
        {
          "output_type": "execute_result",
          "data": {
            "text/plain": [
              "[Synset('make.v.03'),\n",
              " Synset('create.v.02'),\n",
              " Synset('create.v.03'),\n",
              " Synset('create.v.04'),\n",
              " Synset('create.v.05'),\n",
              " Synset('produce.v.02')]"
            ]
          },
          "metadata": {},
          "execution_count": 10
        }
      ]
    },
    {
      "cell_type": "code",
      "source": [
        "wn.synset('create.v.02').definition()"
      ],
      "metadata": {
        "colab": {
          "base_uri": "https://localhost:8080/",
          "height": 35
        },
        "id": "9cohSji0tP8J",
        "outputId": "8978c098-d86b-4431-da67-66be7016a94b"
      },
      "execution_count": null,
      "outputs": [
        {
          "output_type": "execute_result",
          "data": {
            "text/plain": [
              "'bring into existence'"
            ],
            "application/vnd.google.colaboratory.intrinsic+json": {
              "type": "string"
            }
          },
          "metadata": {},
          "execution_count": 11
        }
      ]
    },
    {
      "cell_type": "code",
      "source": [
        "# extract examples\n",
        "\n",
        "wn.synset('create.v.02').examples()"
      ],
      "metadata": {
        "id": "sPOeeFkmtYmc",
        "colab": {
          "base_uri": "https://localhost:8080/"
        },
        "outputId": "c30c62f6-ee01-4fb4-91bc-8971ae20a02d"
      },
      "execution_count": null,
      "outputs": [
        {
          "output_type": "execute_result",
          "data": {
            "text/plain": [
              "['The company was created 25 years ago',\n",
              " 'He created a new movement in painting']"
            ]
          },
          "metadata": {},
          "execution_count": 10
        }
      ]
    },
    {
      "cell_type": "code",
      "source": [
        "#get the lemmas for create\n",
        "create=wn.synset('create.v.02')\n",
        "create.lemmas()"
      ],
      "metadata": {
        "colab": {
          "base_uri": "https://localhost:8080/"
        },
        "id": "MihaVx633Qgo",
        "outputId": "b7d507fe-a573-4e8f-f60a-271073467efd"
      },
      "execution_count": null,
      "outputs": [
        {
          "output_type": "execute_result",
          "data": {
            "text/plain": [
              "[Lemma('create.v.02.create')]"
            ]
          },
          "metadata": {},
          "execution_count": 12
        }
      ]
    },
    {
      "cell_type": "markdown",
      "source": [
        "**Use morphy**"
      ],
      "metadata": {
        "id": "rgq37UDJryaK"
      }
    },
    {
      "cell_type": "code",
      "source": [
        "# using morphy to find many different forms of the verb as possible\n",
        "verb_morphy=wn.morphy('creates', wn.VERB)\n",
        "noun_morphy=wn.morphy('heart',wn.NOUN)\n",
        "print(\"root of verb creates is \",verb_morphy)\n",
        "print(\"root of noun heart is : \",noun_morphy)"
      ],
      "metadata": {
        "colab": {
          "base_uri": "https://localhost:8080/"
        },
        "id": "IANJn1i93m6C",
        "outputId": "8d147822-777b-486c-fefc-c3d2c3b16fef"
      },
      "execution_count": null,
      "outputs": [
        {
          "output_type": "stream",
          "name": "stdout",
          "text": [
            "root of verb creates is  create\n",
            "root of noun heart is :  heart\n"
          ]
        }
      ]
    },
    {
      "cell_type": "markdown",
      "source": [
        "** Problem 8: Select 2 words that may be similar. Run the Wu-Palmer similariity metric and Lesk algorithm. **"
      ],
      "metadata": {
        "id": "GBgORRMqrfpI"
      }
    },
    {
      "cell_type": "code",
      "source": [
        "#Select 2 words you think might be similar (job and work)\n",
        "job=wn.synset('job.n.02')\n",
        "work=wn.synset('work.n.02')\n"
      ],
      "metadata": {
        "id": "XVY6YRIc6JrW"
      },
      "execution_count": null,
      "outputs": []
    },
    {
      "cell_type": "code",
      "source": [
        "#print the likelihood of similarity among the words job and work. \n",
        "job.path_similarity(work)"
      ],
      "metadata": {
        "colab": {
          "base_uri": "https://localhost:8080/"
        },
        "id": "NVKbx5sPeIBM",
        "outputId": "263420a5-2883-4685-f6f2-dec977f92ac0"
      },
      "execution_count": null,
      "outputs": [
        {
          "output_type": "execute_result",
          "data": {
            "text/plain": [
              "0.0625"
            ]
          },
          "metadata": {},
          "execution_count": 31
        }
      ]
    },
    {
      "cell_type": "code",
      "source": [
        "#Wu-Palmer similarity metric\n",
        "wn.wup_similarity(job,work)"
      ],
      "metadata": {
        "colab": {
          "base_uri": "https://localhost:8080/"
        },
        "id": "2InnIjR7fCnV",
        "outputId": "c1773d5a-8507-474e-965f-48fb700ac8b1"
      },
      "execution_count": null,
      "outputs": [
        {
          "output_type": "execute_result",
          "data": {
            "text/plain": [
              "0.11764705882352941"
            ]
          },
          "metadata": {},
          "execution_count": 33
        }
      ]
    },
    {
      "cell_type": "markdown",
      "source": [
        "**Utilize the Lesk algorithm**"
      ],
      "metadata": {
        "id": "vyM8Phf4f1sV"
      }
    },
    {
      "cell_type": "code",
      "source": [
        "from nltk.wsd import lesk"
      ],
      "metadata": {
        "id": "h7k16ekLfyTI"
      },
      "execution_count": null,
      "outputs": []
    },
    {
      "cell_type": "code",
      "source": [
        "# look at the definitions for 'job'\n",
        "for ss in wn.synsets('job'):\n",
        "    print(ss, ss.definition())"
      ],
      "metadata": {
        "colab": {
          "base_uri": "https://localhost:8080/"
        },
        "id": "vgtEuKlLf5yW",
        "outputId": "d545f2a7-a95a-40c2-aca8-90b93f935506"
      },
      "execution_count": null,
      "outputs": [
        {
          "output_type": "stream",
          "name": "stdout",
          "text": [
            "Synset('occupation.n.01') the principal activity in your life that you do to earn money\n",
            "Synset('job.n.02') a specific piece of work required to be done as a duty or for a specific fee\n",
            "Synset('job.n.03') a workplace; as in the expression\n",
            "Synset('job.n.04') an object worked on; a result produced by working\n",
            "Synset('job.n.05') the responsibility to do something\n",
            "Synset('job.n.06') the performance of a piece of work\n",
            "Synset('job.n.07') a damaging piece of work\n",
            "Synset('problem.n.01') a state of difficulty that needs to be resolved\n",
            "Synset('job.n.09') a Jewish hero in the Old Testament who maintained his faith in God in spite of afflictions that tested him\n",
            "Synset('job.n.10') any long-suffering person who withstands affliction without despairing\n",
            "Synset('job.n.11') (computer science) a program application that may consist of several steps but is a single logical unit\n",
            "Synset('job.n.12') a book in the Old Testament containing Job's pleas to God about his afflictions and God's reply\n",
            "Synset('caper.n.03') a crime (especially a robbery)\n",
            "Synset('job.v.01') profit privately from public office and official business\n",
            "Synset('subcontract.v.01') arranged for contracted work to be done by others\n",
            "Synset('job.v.03') work occasionally\n",
            "Synset('speculate.v.04') invest at a risk\n"
          ]
        }
      ]
    },
    {
      "cell_type": "code",
      "source": [
        "sent = ['My','job','is','to','test','the','software','.']\n",
        "print(lesk(sent, 'job', 'n'))\n",
        "print(lesk(sent, 'job'))"
      ],
      "metadata": {
        "colab": {
          "base_uri": "https://localhost:8080/"
        },
        "id": "N5t78MkygXL1",
        "outputId": "50182c40-e150-449a-8fa4-dec29befb199"
      },
      "execution_count": null,
      "outputs": [
        {
          "output_type": "stream",
          "name": "stdout",
          "text": [
            "Synset('occupation.n.01')\n",
            "Synset('occupation.n.01')\n"
          ]
        }
      ]
    },
    {
      "cell_type": "code",
      "source": [
        "# look at the definitions for 'work'\n",
        "for ss in wn.synsets('work'):\n",
        "    print(ss, ss.definition())"
      ],
      "metadata": {
        "colab": {
          "base_uri": "https://localhost:8080/"
        },
        "id": "eadDEdljg1-O",
        "outputId": "935fc025-7505-48b4-98bb-fb5901362a43"
      },
      "execution_count": null,
      "outputs": [
        {
          "output_type": "stream",
          "name": "stdout",
          "text": [
            "Synset('work.n.01') activity directed toward making or doing something\n",
            "Synset('work.n.02') a product produced or accomplished through the effort or activity or agency of a person or thing\n",
            "Synset('employment.n.02') the occupation for which you are paid\n",
            "Synset('study.n.02') applying the mind to learning and understanding a subject (especially by reading)\n",
            "Synset('work.n.05') (physics) a manifestation of energy; the transfer of energy from one physical system to another expressed as the product of a force and the distance through which it moves a body in the direction of that force\n",
            "Synset('workplace.n.01') a place where work is done\n",
            "Synset('oeuvre.n.01') the total output of a writer or artist (or a substantial part of it)\n",
            "Synset('work.v.01') exert oneself by doing mental or physical work for a purpose or out of necessity\n",
            "Synset('work.v.02') be employed\n",
            "Synset('work.v.03') have an effect or outcome; often the one desired or expected\n",
            "Synset('function.v.01') perform as expected when applied\n",
            "Synset('work.v.05') shape, form, or improve a material\n",
            "Synset('exercise.v.03') give a workout to\n",
            "Synset('make.v.36') proceed along a path\n",
            "Synset('work.v.08') operate in a certain place, area, or specialty\n",
            "Synset('work.v.09') proceed towards a goal or along a path or through an activity\n",
            "Synset('work.v.10') move in an agitated manner\n",
            "Synset('bring.v.03') cause to happen or to occur as a consequence\n",
            "Synset('work.v.12') cause to work\n",
            "Synset('cultivate.v.02') prepare for crops\n",
            "Synset('work.v.14') behave in a certain way when handled\n",
            "Synset('influence.v.01') have and exert influence or effect\n",
            "Synset('work.v.16') operate in or through\n",
            "Synset('work.v.17') cause to operate or function\n",
            "Synset('work.v.18') provoke or excite\n",
            "Synset('work.v.19') gratify and charm, usually in order to influence\n",
            "Synset('shape.v.02') make something, usually for a specific function\n",
            "Synset('work.v.21') move into or onto\n",
            "Synset('knead.v.01') make uniform\n",
            "Synset('exploit.v.01') use or manipulate to one's advantage\n",
            "Synset('solve.v.01') find the solution to (a problem or question) or understand the meaning of\n",
            "Synset('ferment.v.03') cause to undergo fermentation\n",
            "Synset('sour.v.01') go sour or spoil\n",
            "Synset('work.v.27') arrive at a certain condition through repeated motion\n"
          ]
        }
      ]
    },
    {
      "cell_type": "code",
      "source": [
        "sent2=['The','work','was','complicated']\n",
        "print(lesk(sent, 'work', 'n'))\n",
        "print(lesk(sent, 'work'))\n"
      ],
      "metadata": {
        "colab": {
          "base_uri": "https://localhost:8080/"
        },
        "id": "MFzrOx9Cg_sp",
        "outputId": "c9e4b4b4-5db5-45de-d208-bbbcc5ba0267"
      },
      "execution_count": null,
      "outputs": [
        {
          "output_type": "stream",
          "name": "stdout",
          "text": [
            "Synset('work.n.05')\n",
            "Synset('work.n.05')\n"
          ]
        }
      ]
    },
    {
      "cell_type": "markdown",
      "source": [
        "**OBSERVATIONS**\n",
        "1. Compared to the Path similarity method, Wu-Palmer similarity metric provided significant accuracy in the similarity between the words job and work. \n",
        "2. There are many usages for the words job and work. If I were to take a sentence \"My job is to test the software,\" then that sentence corresponds with synset('occupation',n.01) which is \"the principal activity in your life that you do to earn money\". If I were to take the sentence \"The work was complicated,\", then this sentence corresponds with Synset('work.n.05') which uses the physics definition ((physics) a manifestation of energy; the transfer of energy from one physical system to another expressed as the product of a force and the distance through which it moves a body in the direction of that force). "
      ],
      "metadata": {
        "id": "zOxxnVpyhOnu"
      }
    },
    {
      "cell_type": "markdown",
      "source": [
        "**SentiWordNet**"
      ],
      "metadata": {
        "id": "EZR3u4Vbr6tm"
      }
    },
    {
      "cell_type": "markdown",
      "source": [
        "**SentiWordNet can be thought of as an extension of WordNet. SentiWordNet assigns 3 scores: positivity, neutral, and negativity. The sum of the three scores is 1 and each score is in between 0 and 1 **"
      ],
      "metadata": {
        "id": "K8ijvMrCt3jP"
      }
    },
    {
      "cell_type": "code",
      "source": [
        "#SentiWordNet\n",
        "from nltk.corpus import sentiwordnet as swn\n",
        "import nltk\n",
        "nltk.download('sentiwordnet')\n"
      ],
      "metadata": {
        "colab": {
          "base_uri": "https://localhost:8080/"
        },
        "id": "8XKyOBVKi5Zr",
        "outputId": "7b357627-7c9c-4e16-88f5-09f3ae175764"
      },
      "execution_count": null,
      "outputs": [
        {
          "output_type": "stream",
          "name": "stderr",
          "text": [
            "[nltk_data] Downloading package sentiwordnet to /root/nltk_data...\n",
            "[nltk_data]   Unzipping corpora/sentiwordnet.zip.\n"
          ]
        },
        {
          "output_type": "execute_result",
          "data": {
            "text/plain": [
              "True"
            ]
          },
          "metadata": {},
          "execution_count": 42
        }
      ]
    },
    {
      "cell_type": "code",
      "source": [
        "senti_list = list(swn.senti_synsets('aversion')) \n",
        "for item in senti_list:\n",
        "    print(item)"
      ],
      "metadata": {
        "colab": {
          "base_uri": "https://localhost:8080/"
        },
        "id": "MJJRTrblw1yz",
        "outputId": "5f3bce0b-4ff1-4d13-8c72-ef69e1540e3b"
      },
      "execution_count": null,
      "outputs": [
        {
          "output_type": "stream",
          "name": "stdout",
          "text": [
            "<antipathy.n.01: PosScore=0.125 NegScore=0.625>\n",
            "<aversion.n.02: PosScore=0.0 NegScore=0.0>\n"
          ]
        }
      ]
    },
    {
      "cell_type": "code",
      "source": [
        "#antipathy\n",
        "antipathy=swn.senti_synset('antipathy.n.01')\n",
        "print(antipathy)\n",
        "print(\"Positive score = \", antipathy.pos_score())\n",
        "print(\"Negative score = \", antipathy.neg_score())\n",
        "print(\"Objective score = \", antipathy.obj_score())"
      ],
      "metadata": {
        "colab": {
          "base_uri": "https://localhost:8080/"
        },
        "id": "3HYh0BI01l4D",
        "outputId": "ca02632c-bd09-4c94-9eda-d925c5625eb8"
      },
      "execution_count": null,
      "outputs": [
        {
          "output_type": "stream",
          "name": "stdout",
          "text": [
            "<antipathy.n.01: PosScore=0.125 NegScore=0.625>\n",
            "Positive score =  0.125\n",
            "Negative score =  0.625\n",
            "Objective score =  0.25\n"
          ]
        }
      ]
    },
    {
      "cell_type": "code",
      "source": [
        "#aversion\n",
        "aversion=swn.senti_synset('aversion.n.02')\n",
        "print(aversion)\n",
        "print(\"Positive score = \", aversion.pos_score())\n",
        "print(\"Negative score = \", aversion.neg_score())\n",
        "print(\"Objective score = \", aversion.obj_score())"
      ],
      "metadata": {
        "colab": {
          "base_uri": "https://localhost:8080/"
        },
        "id": "Q_UXAo53w-NK",
        "outputId": "f1a85512-a8d0-4b28-e74e-c31c6383b9e2"
      },
      "execution_count": null,
      "outputs": [
        {
          "output_type": "stream",
          "name": "stdout",
          "text": [
            "<aversion.n.02: PosScore=0.0 NegScore=0.0>\n",
            "Positive score =  0.0\n",
            "Negative score =  0.0\n",
            "Objective score =  1.0\n"
          ]
        }
      ]
    },
    {
      "cell_type": "code",
      "source": [
        "sentence=['I','have','an','aversion','towards','mean','people']\n",
        "sentence\n",
        "\n",
        "\n",
        "\n"
      ],
      "metadata": {
        "colab": {
          "base_uri": "https://localhost:8080/"
        },
        "id": "cp3G1JdkxNX-",
        "outputId": "7321ef52-c366-4d59-9945-9352fbd18371"
      },
      "execution_count": null,
      "outputs": [
        {
          "output_type": "execute_result",
          "data": {
            "text/plain": [
              "['I', 'have', 'an', 'aversion', 'towards', 'mean', 'people']"
            ]
          },
          "metadata": {},
          "execution_count": 53
        }
      ]
    }
  ]
}